{
 "cells": [
  {
   "cell_type": "markdown",
   "metadata": {},
   "source": [
    "Este é um exemplo de um bom cabeçalho de programa. Tenta não criar um testamento quando os escreveres. A ideia é ter uma ideia rápida do que está nesse ficheiro/programa. "
   ]
  },
  {
   "cell_type": "code",
   "execution_count": null,
   "metadata": {},
   "outputs": [],
   "source": [
    "#**********************************************************************\n",
    "# Project           : Here you place the name of the project in which the program is inserted\n",
    "#\n",
    "# Program name      : the name you've given to this program. Make it easily understandble. \n",
    "#\n",
    "# Author            : name of the author\n",
    "#\n",
    "# Date created      : use the standard YYYYMMDD format\n",
    "#\n",
    "# Summary           : What's the goals of this program? Summarize what happens\n",
    "#\n",
    "#\n",
    "# \n",
    "#\n",
    "# Revision History  :\n",
    "#\n",
    "# Date        Author      Num    Summary\n",
    "# 20100818    name      1      What has been done \n",
    "#\n",
    "#**********************************************************************"
   ]
  }
 ],
 "metadata": {
  "kernelspec": {
   "display_name": "Python 3",
   "language": "python",
   "name": "python3"
  },
  "language_info": {
   "codemirror_mode": {
    "name": "ipython",
    "version": 3
   },
   "file_extension": ".py",
   "mimetype": "text/x-python",
   "name": "python",
   "nbconvert_exporter": "python",
   "pygments_lexer": "ipython3",
   "version": "3.7.3"
  }
 },
 "nbformat": 4,
 "nbformat_minor": 2
}
